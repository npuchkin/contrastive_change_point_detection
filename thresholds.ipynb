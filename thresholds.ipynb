{
 "cells": [
  {
   "cell_type": "code",
   "execution_count": null,
   "metadata": {
    "colab": {
     "base_uri": "https://localhost:8080/"
    },
    "executionInfo": {
     "elapsed": 21614,
     "status": "ok",
     "timestamp": 1659437567254,
     "user": {
      "displayName": "Валерия Щербакова",
      "userId": "16261370459466109945"
     },
     "user_tz": -180
    },
    "id": "3jY-b-QJ2QVt",
    "outputId": "85412293-0735-463b-8cc9-87cc049abca3"
   },
   "outputs": [
    {
     "name": "stdout",
     "output_type": "stream",
     "text": [
      "Mounted at /content/drive\n"
     ]
    }
   ],
   "source": [
    "from google.colab import drive\n",
    "drive.mount('/content/drive')"
   ]
  },
  {
   "cell_type": "code",
   "execution_count": null,
   "metadata": {
    "colab": {
     "base_uri": "https://localhost:8080/"
    },
    "executionInfo": {
     "elapsed": 8,
     "status": "ok",
     "timestamp": 1659437568175,
     "user": {
      "displayName": "Валерия Щербакова",
      "userId": "16261370459466109945"
     },
     "user_tz": -180
    },
    "id": "OJ8_SML2L6mX",
    "outputId": "813ffaef-ea4d-49ad-d351-4086251640fb"
   },
   "outputs": [
    {
     "name": "stdout",
     "output_type": "stream",
     "text": [
      "/content/drive/MyDrive/change_point\n"
     ]
    }
   ],
   "source": [
    "cd drive/MyDrive/change_point/"
   ]
  },
  {
   "cell_type": "code",
   "execution_count": null,
   "metadata": {
    "id": "HMVU-o4EKcJ7"
   },
   "outputs": [],
   "source": [
    "import numpy as np\n",
    "from numpy.random import randn\n",
    "from numpy.random import laplace\n",
    "from sklearn.linear_model import LogisticRegression\n",
    "import torch\n",
    "from torch import nn\n",
    "import pandas as pd\n",
    "import matplotlib.pyplot as plt\n",
    "import cvxpy as cvx\n",
    "from sklearn.metrics.pairwise import pairwise_distances\n",
    "\n",
    "\n",
    "sigma_1  = 0.000176\n",
    "sigma_2 = 0.013938\n",
    "sigma_3 = 0.013542\n",
    "sigma_4 = 0.057944\n",
    "\n",
    "%matplotlib inline"
   ]
  },
  {
   "cell_type": "markdown",
   "metadata": {
    "id": "A962FNl6Kt2r"
   },
   "source": [
    "### Online change point detection procedure (polynomials)\n"
   ]
  },
  {
   "cell_type": "code",
   "execution_count": null,
   "metadata": {
    "id": "_CsyjXlQKjc7"
   },
   "outputs": [],
   "source": [
    "# Auxiliary function\n",
    "# Computation of design matrix based on (1, x, x**2, ..., x**(p-1))\n",
    "#\n",
    "# X -- array of univariate observations\n",
    "#\n",
    "# p -- positive integer\n",
    "#\n",
    "def compute_design(X, p):\n",
    "    \n",
    "    n = X.shape[0]\n",
    "    Psi = np.power(np.outer(X, np.ones(p)), np.outer(np.ones(n), np.arange(p)))\n",
    "    # print(Psi.shape)\n",
    "    \n",
    "    return Psi"
   ]
  },
  {
   "cell_type": "code",
   "execution_count": null,
   "metadata": {
    "id": "wod1N59HKjff"
   },
   "outputs": [],
   "source": [
    "# Auxiliary function\n",
    "# Computation of the best fitting parameter theta\n",
    "# under the hypothesis that tau is the true change point\n",
    "#\n",
    "# Psi -- (n x p)-array, design matrix \n",
    "#\n",
    "# tau -- change point candidate\n",
    "#\n",
    "def compute_theta(Psi, tau):\n",
    "    \n",
    "    # Sample size\n",
    "    t = Psi.shape[0]\n",
    "    \n",
    "    # Create \"virtual\" labels\n",
    "    Y = np.append(np.ones(tau), -np.ones(t - tau))\n",
    "    \n",
    "    lr = LogisticRegression(penalty='none', fit_intercept=False, tol=1e-2,\\\n",
    "                            solver='newton-cg', class_weight='balanced', n_jobs=-1)\n",
    "    lr.fit(Psi, Y)\n",
    "    theta = (lr.coef_).reshape(-1)\n",
    "    \n",
    "    return theta"
   ]
  },
  {
   "cell_type": "code",
   "execution_count": null,
   "metadata": {
    "id": "MzyzFexBKjhb"
   },
   "outputs": [],
   "source": [
    "# Computation of the test statistic\n",
    "#\n",
    "# X -- array of univariate observations\n",
    "#\n",
    "# p -- positive integer (used for basis construction)\n",
    "#\n",
    "def compute_test_stat_linear(X, p, t_min=20, n_out_min=10, B=10):\n",
    "    \n",
    "    # Sample size\n",
    "    n = X.shape[0]\n",
    "    \n",
    "    # Compute design matrix\n",
    "    Psi = compute_design(X, p)\n",
    "    \n",
    "    # Initialization\n",
    "    T = np.zeros((n, n))\n",
    "    \n",
    "    for t in range(t_min, n):\n",
    "        \n",
    "        D = np.zeros(t)\n",
    "        \n",
    "        for tau in range(n_out_min, t-n_out_min):\n",
    "            \n",
    "            # Compute the best fitting parameter theta\n",
    "            theta = compute_theta(Psi[:t, :], tau)\n",
    "            Z = Psi[:t, :] @ theta\n",
    "            \n",
    "            # Use thresholding to avoid numerical issues\n",
    "            Z = np.minimum(Z, B)\n",
    "            Z = np.maximum(Z, -B)\n",
    "            \n",
    "            D[:tau] = 2 / (1 + np.exp(-Z[:tau]))\n",
    "            D[tau:] = 2 / (1 + np.exp(Z[tau:]))\n",
    "            D = np.log(D)\n",
    "            \n",
    "            # Compute statistics for each t\n",
    "            # and each change point candidate tau\n",
    "            T[tau, t] = tau * (t - tau) / t * (np.mean(D[:tau]) + np.mean(D[tau:]))\n",
    "            \n",
    "    # Array of test statistics\n",
    "    S = np.max(T, axis=0)\n",
    "    \n",
    "    return S"
   ]
  },
  {
   "cell_type": "markdown",
   "metadata": {
    "id": "PnQZgh7WLGdC"
   },
   "source": [
    "### Online change point detection procedure (Fourier basis)\n"
   ]
  },
  {
   "cell_type": "code",
   "execution_count": null,
   "metadata": {
    "id": "F6EKWLlBLFgy"
   },
   "outputs": [],
   "source": [
    "def compute_design_Fourier(X, p):\n",
    "    res = np.zeros((p, X.shape[0]))\n",
    "    res[0] = np.ones(X.shape[0]) / np.sqrt(2)\n",
    "    T = 1\n",
    "    for i in range(1, p):\n",
    "        if (i // 2 == 0):\n",
    "            res[i] = np.sin(X * 2 * np.pi * i / T) / np.sqrt(T / 2)\n",
    "        else:\n",
    "            res[i] = np.cos(X * (2 * np.pi * i) / T) / np.sqrt(T / 2)\n",
    "    return res.T"
   ]
  },
  {
   "cell_type": "code",
   "execution_count": null,
   "metadata": {
    "id": "nEUykK_DKxi5"
   },
   "outputs": [],
   "source": [
    "# Computation of the test statistic\n",
    "#\n",
    "# X -- array of univariate observations\n",
    "#\n",
    "# p -- positive integer (used for basis construction)\n",
    "#\n",
    "def compute_test_stat_fourier(X, p, t_min=20, n_out_min=10, B=10):\n",
    "    \n",
    "    # Sample size\n",
    "    n = X.shape[0]\n",
    "    \n",
    "    # Compute design matrix\n",
    "    Psi = compute_design_Fourier(X, p)\n",
    "    \n",
    "    # Initialization\n",
    "    T = np.zeros((n, n))\n",
    "    \n",
    "    for t in range(t_min, n):\n",
    "        \n",
    "        D = np.zeros(t)\n",
    "        \n",
    "        for tau in range(n_out_min, t-n_out_min):\n",
    "            \n",
    "            # Compute the best fitting parameter theta\n",
    "            theta = compute_theta(Psi[:t, :], tau)\n",
    "            Z = Psi[:t, :] @ theta\n",
    "            \n",
    "            # Use thresholding to avoid numerical issues\n",
    "            Z = np.minimum(Z, B)\n",
    "            Z = np.maximum(Z, -B)\n",
    "            \n",
    "            D[:tau] = 2 / (1 + np.exp(-Z[:tau]))\n",
    "            D[tau:] = 2 / (1 + np.exp(Z[tau:]))\n",
    "            D = np.log(D)\n",
    "            \n",
    "            # Compute statistics for each t\n",
    "            # and each change point candidate tau\n",
    "            T[tau, t] = tau * (t - tau) / t * (np.mean(D[:tau]) + np.mean(D[tau:]))\n",
    "            \n",
    "    # Array of test statistics\n",
    "    S = np.max(T, axis=0)\n",
    "    \n",
    "    return S"
   ]
  },
  {
   "cell_type": "markdown",
   "metadata": {
    "id": "xINzkJocLTIq"
   },
   "source": [
    "### Online change point detection procedure (neural networks)"
   ]
  },
  {
   "cell_type": "code",
   "execution_count": null,
   "metadata": {
    "id": "plNpz2e9KxlE"
   },
   "outputs": [],
   "source": [
    "class NN(nn.Module):\n",
    "    def __init__(self, n_in, n_out):\n",
    "        \n",
    "        super(NN, self).__init__()\n",
    "        self.act = nn.ReLU()\n",
    "        self.fc1 = nn.Linear(n_in, 2 * n_in)\n",
    "        self.fc2 = nn.Linear(2 * n_in, 3 * n_in)\n",
    "        self.fc3 = nn.Linear(3 * n_in, n_out)        \n",
    "    \n",
    "    def forward(self, x):\n",
    "        \n",
    "        x = self.fc1(x)\n",
    "        x = self.act(x)\n",
    "        x = self.fc2(x)\n",
    "        x = self.act(x)\n",
    "        x = self.fc3(x)\n",
    "        \n",
    "        return x"
   ]
  },
  {
   "cell_type": "code",
   "execution_count": null,
   "metadata": {
    "id": "EZu1q3rKKxnU"
   },
   "outputs": [],
   "source": [
    "# Computation of the test statistic\n",
    "#\n",
    "# X -- array of univariate observations\n",
    "#\n",
    "# p -- positive integer (used for basis construction)\n",
    "#\n",
    "def compute_test_stat_nn(X, t_min=20, n_out_min=10, B=10, n_epochs=200, model=NN):\n",
    "    \n",
    "    X = X.reshape(-1, 1)\n",
    "    \n",
    "    # Sample size\n",
    "    n = X.shape[0]\n",
    "    \n",
    "    # Initialization\n",
    "    T = np.zeros((n, n))\n",
    "    \n",
    "    for t in range(t_min, n):\n",
    "    \n",
    "        for tau in range(n_out_min, t-n_out_min):\n",
    "            \n",
    "            # Initialize neural network\n",
    "            f = model(n_in=1, n_out=1)\n",
    "            \n",
    "            # Parameters of the optimizer\n",
    "            opt = torch.optim.Adam(f.parameters(), lr=1e-1)\n",
    "            \n",
    "            X_t = torch.tensor(X[:t, :], dtype=torch.float32, requires_grad=True)\n",
    "            \n",
    "            # weights\n",
    "            W = torch.cat((torch.ones(tau) * (t - tau), torch.ones(t - tau) * tau)).reshape(-1, 1)\n",
    "            \n",
    "            # Create \"virtual\" labels\n",
    "            Y_t = torch.cat((torch.ones(tau), torch.zeros(t - tau))).reshape(-1, 1)\n",
    "    \n",
    "            # Loss function    \n",
    "            loss_fn = nn.BCEWithLogitsLoss(weight=W)\n",
    "            \n",
    "            # Neural network training\n",
    "            for epoch in range(n_epochs):\n",
    "                \n",
    "                loss = loss_fn(f(X_t), Y_t).mean()\n",
    "                loss.backward()\n",
    "                opt.step()\n",
    "                opt.zero_grad()\n",
    "                \n",
    "            Z = f(X_t).detach().numpy().reshape(-1)\n",
    "            \n",
    "            # Use thresholding to avoid numerical issues\n",
    "            Z = np.minimum(Z, B)\n",
    "            Z = np.maximum(Z, -B)\n",
    "            \n",
    "            D = np.zeros(t)\n",
    "            D[:tau] = 2 / (1 + np.exp(-Z[:tau]))\n",
    "            D[tau:] = 2 / (1 + np.exp(Z[tau:]))\n",
    "            D = np.log(D)\n",
    "            \n",
    "            # Compute statistics for each t\n",
    "            # and each change point candidate tau\n",
    "            T[tau, t] = tau * (t - tau) / t * (np.mean(D[:tau]) + np.mean(D[tau:]))\n",
    "       \n",
    "    # Array of test statistics\n",
    "    S = np.max(T, axis=0)\n",
    "    \n",
    "    return S"
   ]
  },
  {
   "cell_type": "markdown",
   "metadata": {
    "id": "aPUknRVJ-1HH"
   },
   "source": [
    "### KLIEP online change point procedure (Sugiyama et al. (2008), Liu et al. (2013))"
   ]
  },
  {
   "cell_type": "code",
   "execution_count": null,
   "metadata": {
    "id": "kAkodoR2-1HI"
   },
   "outputs": [],
   "source": [
    "def compute_test_stat_kliep(X, window_size=10, sigma=0.1):\n",
    "    \n",
    "    if len(X.shape) == 1:\n",
    "        X = X.reshape(-1, 1)\n",
    "    \n",
    "    # More convenient notation\n",
    "    b = window_size\n",
    "    \n",
    "    # Sample size\n",
    "    n = X.shape[0]\n",
    "    \n",
    "    # Initialization\n",
    "    T = np.zeros(n)\n",
    "    \n",
    "    for t in range(2*b + 1, n):\n",
    "        \n",
    "        # Test sample\n",
    "        X_te = X[t-b:t]\n",
    "        # Reference sample\n",
    "        X_re = X[t-2*b:t-b]\n",
    "        \n",
    "        T[t] = kliep(X_te, X_re, sigma)\n",
    "    \n",
    "    return T"
   ]
  },
  {
   "cell_type": "code",
   "execution_count": null,
   "metadata": {
    "id": "FykVqgs4-1HI"
   },
   "outputs": [],
   "source": [
    "def kliep(X_te, X_re, sigma):\n",
    "    \n",
    "    # Test sample size\n",
    "    n_te = X_te.shape[0]\n",
    "    # Reference sample size\n",
    "    n_re = X_re.shape[0]\n",
    "    \n",
    "    # Compute pairwise distances\n",
    "    te_te_dist = pairwise_distances(X_te)\n",
    "    re_te_dist = pairwise_distances(X_re, X_te)\n",
    "    \n",
    "    # Compute kernel matrices\n",
    "    te_te_kernel = np.exp(-0.5 * (te_te_dist / sigma)**2)\n",
    "    re_te_kernel = np.exp(-0.5 * (re_te_dist / sigma)**2)\n",
    "    \n",
    "    # Initialize a vector of coefficients\n",
    "    theta = cvx.Variable(n_te)\n",
    "    \n",
    "    # Objective\n",
    "    obj = cvx.Maximize(cvx.sum(cvx.log(te_te_kernel @ theta)))\n",
    "    \n",
    "    # Constraints\n",
    "    constraints = [cvx.sum(re_te_kernel @ theta) == n_re, theta >= 0]\n",
    "    \n",
    "    # Problem\n",
    "    prob = cvx.Problem(obj, constraints)\n",
    "    prob.solve()\n",
    "    \n",
    "    return obj.value"
   ]
  },
  {
   "cell_type": "markdown",
   "metadata": {
    "id": "FRKVa_ry-1HJ"
   },
   "source": [
    "### An online change point detection procedure based on M-statistic (Li, Xie, Dai and Song (2015))"
   ]
  },
  {
   "cell_type": "code",
   "execution_count": null,
   "metadata": {
    "id": "j8-rTtoC-1HJ"
   },
   "outputs": [],
   "source": [
    "# Compute MMD test statistic\n",
    "def compute_test_stat_mmd(X, window_size=10, sigma=0.1):\n",
    "    \n",
    "    if len(X.shape) == 1:\n",
    "        X = X.reshape(-1, 1)\n",
    "    \n",
    "    # More convenient notation\n",
    "    b = window_size\n",
    "    \n",
    "    # Sample size\n",
    "    n = X.shape[0]\n",
    "    \n",
    "    # Initialization\n",
    "    T = np.zeros(n)\n",
    "    \n",
    "    for t in range(2*b + 1, n):\n",
    "        \n",
    "        # Test sample\n",
    "        X_te = X[t-b:t, :]\n",
    "        # Reference sample\n",
    "        X_re = X[t-2*b:t-b, :]\n",
    "        \n",
    "        MMD_2 = mmd_squared(X_re, X_te, sigma)\n",
    "        var = estimate_variance(X_re, window_size, sigma)\n",
    "        \n",
    "        T[t] = MMD_2 / np.sqrt(var)\n",
    "    \n",
    "    return T"
   ]
  },
  {
   "cell_type": "code",
   "execution_count": null,
   "metadata": {
    "id": "63JGu5si-1HK"
   },
   "outputs": [],
   "source": [
    "def mmd_squared(X, Y, sigma):\n",
    "    \n",
    "    # Sample size\n",
    "    n = X.shape[0]\n",
    "    \n",
    "    # Compute pairwise distances\n",
    "    xx_dist = pairwise_distances(X)\n",
    "    xy_dist = pairwise_distances(X, Y)\n",
    "    yy_dist = pairwise_distances(Y)\n",
    "    \n",
    "    # Compute kernel matrices\n",
    "    xx_kernel = np.exp(-0.5 * (xx_dist / sigma)**2) - np.identity(n)\n",
    "    xy_kernel = np.exp(-0.5 * (xy_dist / sigma)**2) - np.identity(n)\n",
    "    yy_kernel = np.exp(-0.5 * (yy_dist / sigma)**2) - np.identity(n)\n",
    "    \n",
    "    # Compute the U-statistic\n",
    "    u_stat = (np.sum(xx_kernel) - 2 * np.sum(xy_kernel) + np.sum(yy_kernel)) / n / (n - 1)\n",
    "    \n",
    "    return u_stat"
   ]
  },
  {
   "cell_type": "code",
   "execution_count": null,
   "metadata": {
    "id": "gPnDsK7p-1HM"
   },
   "outputs": [],
   "source": [
    "def h_squared(X, sigma):\n",
    "    \n",
    "    # Sample size\n",
    "    n = X.shape[0]\n",
    "    \n",
    "    # Divide the array into four equal parts\n",
    "    n_max = 4 * (n // 4)\n",
    "    X_1 = X[0:n_max:4]\n",
    "    X_2 = X[1:n_max:4]\n",
    "    X_3 = X[2:n_max:4]\n",
    "    X_4 = X[3:n_max:4]\n",
    "    \n",
    "    K_12 = np.exp(-0.5 * (np.linalg.norm(X_1 - X_2, axis=1) / sigma)**2)\n",
    "    K_13 = np.exp(-0.5 * (np.linalg.norm(X_1 - X_3, axis=1) / sigma)**2)\n",
    "    K_24 = np.exp(-0.5 * (np.linalg.norm(X_2 - X_4, axis=1) / sigma)**2)\n",
    "    K_34 = np.exp(-0.5 * (np.linalg.norm(X_3 - X_4, axis=1) / sigma)**2)\n",
    "    \n",
    "    return np.mean((K_12 - K_13 - K_24 + K_34)**2)\n",
    "\n",
    "\n",
    "# Compute the first term in the variance estimate\n",
    "def h_cov(X, sigma):\n",
    "    \n",
    "    # Sample size\n",
    "    n = X.shape[0]\n",
    "    \n",
    "    # Divide the array into six equal parts\n",
    "    n_max = 6 * (n // 6)\n",
    "    X_1 = X[0:n_max:6]\n",
    "    X_2 = X[1:n_max:6]\n",
    "    X_3 = X[2:n_max:6]\n",
    "    X_4 = X[3:n_max:6]\n",
    "    X_5 = X[4:n_max:6]\n",
    "    X_6 = X[5:n_max:6]\n",
    "    \n",
    "    K_12 = np.exp(-0.5 * (np.linalg.norm(X_1 - X_2, axis=1) / sigma)**2)\n",
    "    K_13 = np.exp(-0.5 * (np.linalg.norm(X_1 - X_3, axis=1) / sigma)**2)\n",
    "    K_24 = np.exp(-0.5 * (np.linalg.norm(X_2 - X_4, axis=1) / sigma)**2)\n",
    "    K_34 = np.exp(-0.5 * (np.linalg.norm(X_3 - X_4, axis=1) / sigma)**2)\n",
    "    \n",
    "    K_56 = np.exp(-0.5 * (np.linalg.norm(X_5 - X_6, axis=1) / sigma)**2)\n",
    "    K_53 = np.exp(-0.5 * (np.linalg.norm(X_5 - X_3, axis=1) / sigma)**2)\n",
    "    K_64 = np.exp(-0.5 * (np.linalg.norm(X_6 - X_4, axis=1) / sigma)**2)\n",
    "    K_34 = np.exp(-0.5 * (np.linalg.norm(X_3 - X_4, axis=1) / sigma)**2)\n",
    "    \n",
    "    # Compute the second term in the variance estimate\n",
    "    h_1234 = K_12 - K_13 - K_24 + K_34\n",
    "    h_5634 = K_56 - K_53 - K_64 + K_34\n",
    "    \n",
    "    return np.mean((h_1234 - np.mean(h_1234)) * (h_5634 - np.mean(h_5634)))\n",
    "\n",
    "# Variance estimate under the null hypothesis\n",
    "def estimate_variance(X, window_size, sigma):\n",
    "    \n",
    "    if len(X.shape) == 1:\n",
    "        X = X.reshape(-1, 1)\n",
    "        \n",
    "    # Sample size\n",
    "    n = X.shape[0]\n",
    "    \n",
    "    # Compute the first term in the variance estimate\n",
    "    h2 = h_squared(X, sigma) \n",
    "    \n",
    "    # Compute the second term in the variance estimate\n",
    "    h_c = h_cov(X, sigma)\n",
    "    \n",
    "    # Variance estimate\n",
    "    var = 2 * (h2 + h_c) / window_size / (window_size - 1)\n",
    "        \n",
    "    return np.maximum(var, 1e-5)"
   ]
  },
  {
   "cell_type": "markdown",
   "metadata": {
    "id": "sndwrTg9_j94"
   },
   "source": [
    "### CUSUM"
   ]
  },
  {
   "cell_type": "code",
   "execution_count": null,
   "metadata": {
    "id": "2vscmBPs_l6E"
   },
   "outputs": [],
   "source": [
    "def compute_cusum(X):\n",
    "    T = np.zeros(X.shape[0])\n",
    "    for n in range(1, X.shape[0]):\n",
    "        t = np.zeros(n)\n",
    "        for k in range(1, n):\n",
    "            t[k] = abs((n - k) * X[:k].sum()   - k * X[k:n].sum() ) / np.sqrt(n * k * (n - k))\n",
    "          # t = abs(np.mean(X[:k]) - np.mean(X[k:n]))\n",
    "        T[n] = np.max(t)\n",
    "    return T"
   ]
  },
  {
   "cell_type": "code",
   "execution_count": null,
   "metadata": {
    "id": "1xSadaU-2QWA"
   },
   "outputs": [],
   "source": [
    "def compute_cusum_squared(X):\n",
    "    T = np.zeros(X.shape[0])\n",
    "    for n in range(1, X.shape[0]):\n",
    "        t = np.zeros(n)\n",
    "        for k in range(1, n):\n",
    "\n",
    "            t[k] = abs((n - k) * np.power(X[:k], 2).sum()   - k * np.power(X[k:n], 2).sum() ) / np.sqrt(n * k * (n - k))\n",
    "          # t = abs(np.mean(X[:k]) - np.mean(X[k:n]))\n",
    "        T[n] = np.max(t)\n",
    "    return T"
   ]
  },
  {
   "cell_type": "markdown",
   "metadata": {
    "id": "fzScOQYwMSav"
   },
   "source": [
    "### Threshold for p = 2, n_epochs = 50, sigma = 0.1\n",
    "\n"
   ]
  },
  {
   "cell_type": "code",
   "execution_count": null,
   "metadata": {
    "id": "p_zU8j5kKxpr"
   },
   "outputs": [],
   "source": [
    "# Number of observations\n",
    "n = 150\n",
    "\n",
    "# Standard deviation of the observations\n",
    "sigma = 0.1\n",
    "\n",
    "# Generate a Gaussian sequence of observations\n",
    "np.random.seed(1)\n",
    "p = 2\n",
    "S_poly_list = []\n",
    "S_nn_list = []\n",
    "S_f_list = []\n",
    "\n",
    "for item in range(10):\n",
    "    X = sigma * randn(n)\n",
    "\n",
    "    S_poly = compute_test_stat_linear(X, p)\n",
    "    S_nn = compute_test_stat_nn(X, n_epochs=50)\n",
    "    S_f = compute_test_stat_fourier(X, p)\n",
    "\n",
    "    S_poly_list.append(S_poly)\n",
    "    S_nn_list.append(S_nn)\n",
    "    S_f_list.append(S_f)"
   ]
  },
  {
   "cell_type": "code",
   "execution_count": null,
   "metadata": {
    "id": "h-QiurO2Kxr6"
   },
   "outputs": [],
   "source": [
    "S_f_np = np.array(S_f_list)\n",
    "df_f = pd.DataFrame(S_f_np.T, columns=range(10))\n",
    "df_f.to_csv('thresholds/Fourier_p_2_sigma_0.1.csv',index=False)\n",
    "threshold_p_2_f = np.round(np.max(S_f_np, axis=1).mean(), 4)"
   ]
  },
  {
   "cell_type": "code",
   "execution_count": null,
   "metadata": {
    "id": "q3jUaVBhMzRo"
   },
   "outputs": [],
   "source": [
    "S_nn_np = np.array(S_nn_list)\n",
    "df_nn = pd.DataFrame(S_nn_np.T, columns=range(10))\n",
    "df_nn.to_csv('thresholds/nn_n_epochs_50_sigma_0.1.csv',index=False)\n",
    "threshold_p_2_nn = np.round(np.max(S_nn_np, axis=1).mean(), 4)"
   ]
  },
  {
   "cell_type": "code",
   "execution_count": null,
   "metadata": {
    "id": "J6pg78WRQ2iB"
   },
   "outputs": [],
   "source": [
    "S_poly_np = np.array(S_poly_list)\n",
    "df_poly = pd.DataFrame(S_poly_np.T, columns=range(10))\n",
    "df_poly.to_csv('thresholds/polynomial_p_2_sigma_0.1.csv',index=False)\n",
    "threshold_p_2_poly = np.round(np.max(S_poly_np, axis=1).mean(), 4)"
   ]
  },
  {
   "cell_type": "code",
   "execution_count": null,
   "metadata": {
    "id": "qznEC0u12QWB"
   },
   "outputs": [],
   "source": [
    "S_f_np = pd.read_csv('thresholds/Fourier_p_2_sigma_0.1.csv').to_numpy()"
   ]
  },
  {
   "cell_type": "code",
   "execution_count": null,
   "metadata": {
    "id": "e_t67JXX2QWC",
    "outputId": "2bcebb80-01e4-43e9-97d3-269c3a248a95"
   },
   "outputs": [
    {
     "data": {
      "text/plain": [
       "2.4917"
      ]
     },
     "execution_count": 38,
     "metadata": {},
     "output_type": "execute_result"
    }
   ],
   "source": [
    "threshold_p_2_f = np.round(np.max(np.max(S_f_np[:,:9], axis = 0)), 4)\n",
    "threshold_p_2_f"
   ]
  },
  {
   "cell_type": "code",
   "execution_count": null,
   "metadata": {
    "id": "uKJamHVD2QWC",
    "outputId": "6929d702-5a16-400c-d130-32681048a3b6"
   },
   "outputs": [
    {
     "data": {
      "text/plain": [
       "2.4594"
      ]
     },
     "execution_count": 39,
     "metadata": {},
     "output_type": "execute_result"
    }
   ],
   "source": [
    "S_poly_np = pd.read_csv('thresholds/polynomial_p_2_sigma_0.1.csv').to_numpy()\n",
    "threshold_p_2_poly = np.round(np.max(np.max(S_poly_np[:,:9], axis = 0)), 4)\n",
    "threshold_p_2_poly"
   ]
  },
  {
   "cell_type": "code",
   "execution_count": null,
   "metadata": {
    "id": "zCUb_Hyp2QWC",
    "outputId": "1c742747-deb6-43da-d722-be78368d8cf5"
   },
   "outputs": [
    {
     "data": {
      "text/plain": [
       "4.6886"
      ]
     },
     "execution_count": 41,
     "metadata": {},
     "output_type": "execute_result"
    }
   ],
   "source": [
    "S_nn_np = pd.read_csv('thresholds/nn_n_epochs_50_sigma_0.1.csv').to_numpy()\n",
    "threshold_nn = np.round(np.max(np.max(S_nn_np[:,:9], axis = 0)), 4)\n",
    "threshold_nn"
   ]
  },
  {
   "cell_type": "code",
   "execution_count": null,
   "metadata": {
    "colab": {
     "base_uri": "https://localhost:8080/"
    },
    "executionInfo": {
     "elapsed": 714,
     "status": "ok",
     "timestamp": 1659437773284,
     "user": {
      "displayName": "Валерия Щербакова",
      "userId": "16261370459466109945"
     },
     "user_tz": -180
    },
    "id": "mqW1TeCmMttT",
    "outputId": "a86d8cae-47c2-4ea3-cfca-8389993bb9cf"
   },
   "outputs": [
    {
     "data": {
      "text/plain": [
       "3.3494"
      ]
     },
     "execution_count": 23,
     "metadata": {},
     "output_type": "execute_result"
    }
   ],
   "source": [
    "S_nn_np = pd.read_csv('thresholds/nn_n_epochs_50_sigma_0.1.csv').to_numpy()\n",
    "threshold_nn = np.round(np.max(np.max(S_nn_np[:,:4], axis = 0)), 4)\n",
    "threshold_nn"
   ]
  },
  {
   "cell_type": "markdown",
   "metadata": {
    "id": "MVwugpspRbAp"
   },
   "source": [
    "### Threshold for p = 3, sigma = 0.1\n",
    "\n"
   ]
  },
  {
   "cell_type": "code",
   "execution_count": null,
   "metadata": {
    "id": "kdKUV67lRgVS"
   },
   "outputs": [],
   "source": [
    "# Number of observations\n",
    "n = 150\n",
    "\n",
    "# Standard deviation of the observations\n",
    "sigma = 0.1\n",
    "\n",
    "# Generate a Gaussian sequence of observations\n",
    "np.random.seed(1)\n",
    "p = 3\n",
    "S_poly_list = []\n",
    "S_f_list = []\n",
    "\n",
    "for item in range(10):\n",
    "    X = sigma * randn(n)\n",
    "\n",
    "    S_poly = compute_test_stat_linear(X, p)\n",
    "    S_f = compute_test_stat_fourier(X, p)\n",
    "\n",
    "    S_poly_list.append(S_poly)\n",
    "    S_f_list.append(S_f)"
   ]
  },
  {
   "cell_type": "code",
   "execution_count": null,
   "metadata": {
    "id": "1QLve3tLRlX2"
   },
   "outputs": [],
   "source": [
    "S_f_np = np.array(S_f_list)\n",
    "df_f = pd.DataFrame(S_f_np.T, columns=range(10))\n",
    "df_f.to_csv('thresholds/Fourier_p_3_sigma_0.1.csv',index=False)\n",
    "threshold_p_3_f = np.round(np.max(S_f_np, axis=1).mean(), 4)"
   ]
  },
  {
   "cell_type": "code",
   "execution_count": null,
   "metadata": {
    "id": "QJaEBQwtRoa9"
   },
   "outputs": [],
   "source": [
    "S_poly_np = np.array(S_poly_list)\n",
    "df_poly = pd.DataFrame(S_poly_np.T, columns=range(10))\n",
    "df_poly.to_csv('thresholds/polynomial_p_3_sigma_0.1.csv',index=False)\n",
    "threshold_p_3_poly = np.round(np.max(S_poly_np, axis=1).mean(), 4)"
   ]
  },
  {
   "cell_type": "code",
   "execution_count": null,
   "metadata": {
    "id": "kTsXnzWa2QWK",
    "outputId": "a35bda2f-cf66-4792-8c47-56c8e56e92d7"
   },
   "outputs": [
    {
     "data": {
      "text/plain": [
       "3.9832"
      ]
     },
     "execution_count": 22,
     "metadata": {},
     "output_type": "execute_result"
    }
   ],
   "source": [
    "S_poly_np = pd.read_csv('thresholds/polynomial_p_3_sigma_0.1.csv').to_numpy()\n",
    "threshold_p_3_poly = np.round(np.max(np.max(S_poly_np[:,:9], axis = 0)), 4)\n",
    "threshold_p_3_poly"
   ]
  },
  {
   "cell_type": "code",
   "execution_count": null,
   "metadata": {
    "id": "4lSg3t8g2QWL",
    "outputId": "fd8a7bba-09f2-421d-d3b0-c3a02ea1e490"
   },
   "outputs": [
    {
     "data": {
      "text/plain": [
       "3.9518"
      ]
     },
     "execution_count": 23,
     "metadata": {},
     "output_type": "execute_result"
    }
   ],
   "source": [
    "S_f_np = pd.read_csv('thresholds/Fourier_p_3_sigma_0.1.csv').to_numpy()\n",
    "threshold_p_3_f = np.round(np.max(np.max(S_f_np[:,:9], axis = 0)), 4)\n",
    "threshold_p_3_f"
   ]
  },
  {
   "cell_type": "code",
   "execution_count": null,
   "metadata": {
    "id": "f3-MViVi2QWL"
   },
   "outputs": [],
   "source": []
  },
  {
   "cell_type": "markdown",
   "metadata": {
    "id": "xo5QsRNkRqik"
   },
   "source": [
    "### Threshold for p = 6, sigma = 0.1\n"
   ]
  },
  {
   "cell_type": "code",
   "execution_count": null,
   "metadata": {
    "id": "-50KRR_vRuWU"
   },
   "outputs": [],
   "source": [
    "# Number of observations\n",
    "n = 150\n",
    "\n",
    "# Standard deviation of the observations\n",
    "sigma = 0.1\n",
    "\n",
    "# Generate a Gaussian sequence of observations\n",
    "np.random.seed(1)\n",
    "p = 6\n",
    "S_poly_list = []\n",
    "S_f_list = []\n",
    "\n",
    "for item in range(10):\n",
    "    X = sigma * randn(n)\n",
    "\n",
    "    S_poly = compute_test_stat_linear(X, p)\n",
    "    S_f = compute_test_stat_fourier(X, p)\n",
    "\n",
    "    S_poly_list.append(S_poly)\n",
    "    S_f_list.append(S_f)"
   ]
  },
  {
   "cell_type": "code",
   "execution_count": null,
   "metadata": {
    "id": "ibr_WXLoR05-"
   },
   "outputs": [],
   "source": [
    "S_f_np = np.array(S_f_list)\n",
    "df_f = pd.DataFrame(S_f_np.T, columns=range(10))\n",
    "df_f.to_csv('thresholds/Fourier_p_6_sigma_0.1.csv',index=False)\n",
    "threshold_p_6_f = np.round(np.max(S_f_np, axis=0).mean(), 4)"
   ]
  },
  {
   "cell_type": "code",
   "execution_count": null,
   "metadata": {
    "id": "P_77XWbKR3Qd"
   },
   "outputs": [],
   "source": [
    "S_poly_np = np.array(S_poly_list)\n",
    "df_poly = pd.DataFrame(S_poly_np.T, columns=range(10))\n",
    "df_poly.to_csv('thresholds/polynomial_p_6_sigma_0.1.csv',index=False)\n",
    "threshold_p_6_poly = np.round(np.max(S_poly_np, axis=1).mean(), 4)"
   ]
  },
  {
   "cell_type": "code",
   "execution_count": null,
   "metadata": {
    "colab": {
     "base_uri": "https://localhost:8080/"
    },
    "executionInfo": {
     "elapsed": 572,
     "status": "ok",
     "timestamp": 1659437658214,
     "user": {
      "displayName": "Валерия Щербакова",
      "userId": "16261370459466109945"
     },
     "user_tz": -180
    },
    "id": "i-0wzV9y2QWN",
    "outputId": "23a679c3-7acc-4a75-811f-a1a2c848ceb7"
   },
   "outputs": [
    {
     "data": {
      "text/plain": [
       "3.9617"
      ]
     },
     "execution_count": 19,
     "metadata": {},
     "output_type": "execute_result"
    }
   ],
   "source": [
    "S_poly_np = pd.read_csv('thresholds/polynomial_p_6_sigma_0.1.csv').to_numpy()\n",
    "threshold_p_6_poly = np.round(np.max(np.max(S_poly_np[:,:4], axis = 0)), 4)\n",
    "threshold_p_6_poly"
   ]
  },
  {
   "cell_type": "code",
   "execution_count": null,
   "metadata": {
    "colab": {
     "base_uri": "https://localhost:8080/"
    },
    "executionInfo": {
     "elapsed": 930,
     "status": "ok",
     "timestamp": 1659437662483,
     "user": {
      "displayName": "Валерия Щербакова",
      "userId": "16261370459466109945"
     },
     "user_tz": -180
    },
    "id": "ZABG5Iba2QWO",
    "outputId": "70e58652-8347-4f49-ca98-b331e421e418"
   },
   "outputs": [
    {
     "data": {
      "text/plain": [
       "6.4894"
      ]
     },
     "execution_count": 20,
     "metadata": {},
     "output_type": "execute_result"
    }
   ],
   "source": [
    "S_f_np = pd.read_csv('thresholds/Fourier_p_6_sigma_0.1.csv').to_numpy()\n",
    "threshold_p_6_f = np.round(np.max(np.max(S_f_np[:,:4], axis = 0)), 4)\n",
    "threshold_p_6_f"
   ]
  },
  {
   "cell_type": "code",
   "execution_count": null,
   "metadata": {
    "colab": {
     "base_uri": "https://localhost:8080/"
    },
    "executionInfo": {
     "elapsed": 2272170,
     "status": "ok",
     "timestamp": 1659441272295,
     "user": {
      "displayName": "Валерия Щербакова",
      "userId": "16261370459466109945"
     },
     "user_tz": -180
    },
    "id": "JM8tChwiQeFF",
    "outputId": "18ff71fd-93b5-4af5-d057-dc011d53796d"
   },
   "outputs": [
    {
     "name": "stdout",
     "output_type": "stream",
     "text": [
      "0\n",
      "1\n",
      "2\n",
      "3\n"
     ]
    }
   ],
   "source": [
    "# Number of observations\n",
    "n = 150\n",
    "sigma = 0.1\n",
    "\n",
    "# Generate a Uniform on [-sigma sqrt(3), sigma sqrt(3)] sequence of observations\n",
    "np.random.seed(1)\n",
    "p = 6\n",
    "S_poly_list = []\n",
    "S_f_list = []\n",
    "S_nn_list = []\n",
    "\n",
    "for item in range(4):\n",
    "    X = 2 * np.sqrt(3) * sigma * (np.random.rand(n) - 0.5)\n",
    "\n",
    "    S_poly = compute_test_stat_linear(X, p)\n",
    "    S_f = compute_test_stat_fourier(X, p)\n",
    "    S_nn = compute_test_stat_nn(X, n_epochs=50)\n",
    "\n",
    "    S_poly_list.append(S_poly)\n",
    "    S_f_list.append(S_f)\n",
    "    S_nn_list.append(S_nn)\n",
    "    print(item)"
   ]
  },
  {
   "cell_type": "code",
   "execution_count": null,
   "metadata": {
    "colab": {
     "base_uri": "https://localhost:8080/"
    },
    "executionInfo": {
     "elapsed": 373,
     "status": "ok",
     "timestamp": 1659441391426,
     "user": {
      "displayName": "Валерия Щербакова",
      "userId": "16261370459466109945"
     },
     "user_tz": -180
    },
    "id": "EueFl2jmaIjD",
    "outputId": "0cb8fa23-ea10-4e26-a038-3603c54861fa"
   },
   "outputs": [
    {
     "data": {
      "text/plain": [
       "6.8442"
      ]
     },
     "execution_count": 31,
     "metadata": {},
     "output_type": "execute_result"
    }
   ],
   "source": [
    "S_f_np = np.array(S_f_list)\n",
    "df_f = pd.DataFrame(S_f_np.T, columns=range(4))\n",
    "df_f.to_csv('thresholds/Fourier_p_6_sigma_0.1_uniform.csv',index=False)\n",
    "threshold_p_6_f = np.round(np.max(np.max(S_f_np, axis=0)), 4)\n",
    "threshold_p_6_f"
   ]
  },
  {
   "cell_type": "code",
   "execution_count": null,
   "metadata": {
    "colab": {
     "base_uri": "https://localhost:8080/"
    },
    "executionInfo": {
     "elapsed": 5,
     "status": "ok",
     "timestamp": 1659441434162,
     "user": {
      "displayName": "Валерия Щербакова",
      "userId": "16261370459466109945"
     },
     "user_tz": -180
    },
    "id": "9K7x5cfZaLeJ",
    "outputId": "b1c13f27-9376-43fa-e145-71c4b366e907"
   },
   "outputs": [
    {
     "data": {
      "text/plain": [
       "4.0411"
      ]
     },
     "execution_count": 33,
     "metadata": {},
     "output_type": "execute_result"
    }
   ],
   "source": [
    "S_poly_np = np.array(S_poly_list)\n",
    "df_poly = pd.DataFrame(S_poly_np.T, columns=range(4))\n",
    "df_poly.to_csv('thresholds/polynomial_p_6_sigma_0.1_uniform.csv',index=False)\n",
    "threshold_p_6_poly = np.round(np.max(S_poly_np, axis=1).max(), 4)\n",
    "threshold_p_6_poly"
   ]
  },
  {
   "cell_type": "code",
   "execution_count": null,
   "metadata": {
    "colab": {
     "base_uri": "https://localhost:8080/"
    },
    "executionInfo": {
     "elapsed": 411,
     "status": "ok",
     "timestamp": 1659441499001,
     "user": {
      "displayName": "Валерия Щербакова",
      "userId": "16261370459466109945"
     },
     "user_tz": -180
    },
    "id": "PVMeQ1ooatm7",
    "outputId": "ea92ec43-92f6-4a93-961d-51bb83c9e6f2"
   },
   "outputs": [
    {
     "data": {
      "text/plain": [
       "4.3327"
      ]
     },
     "execution_count": 34,
     "metadata": {},
     "output_type": "execute_result"
    }
   ],
   "source": [
    "S_nn_np = np.array(S_nn_list)\n",
    "df_nn = pd.DataFrame(S_nn_np.T, columns=range(4))\n",
    "df_nn.to_csv('thresholds/nn_uniform.csv',index=False)\n",
    "threshold_nn_uniform = np.round(np.max(S_nn_np, axis=1).max(), 4)\n",
    "threshold_nn_uniform"
   ]
  },
  {
   "cell_type": "markdown",
   "metadata": {
    "id": "YV8dnxMm-1HR"
   },
   "source": [
    "### Thresholds for KLIEP, CUSUM and M-statistic, sigma = 0.1"
   ]
  },
  {
   "cell_type": "code",
   "execution_count": null,
   "metadata": {
    "id": "fjbxBfiZ-1HS"
   },
   "outputs": [],
   "source": [
    "# Number of observations\n",
    "n = 150\n",
    "\n",
    "# Standard deviation of the observations\n",
    "sigma = 0.1\n",
    "\n",
    "# Generate a Gaussian sequence of observations\n",
    "np.random.seed(1)\n",
    "S_kliep_list = []\n",
    "S_mmd_list = []\n",
    "S_cusum_list = []\n",
    "\n",
    "for item in range(9):\n",
    "    X = sigma * randn(n)\n",
    "\n",
    "    S_kliep = compute_test_stat_kliep(X, window_size=20, sigma=0.2)\n",
    "    S_mmd = compute_test_stat_mmd(X, window_size=20, sigma=0.3)\n",
    "    S_cusum = compute_cusum(X)\n",
    "    \n",
    "    S_kliep_list.append(S_kliep)\n",
    "    S_mmd_list.append(S_mmd)\n",
    "    S_cusum_list.append(S_cusum)"
   ]
  },
  {
   "cell_type": "code",
   "execution_count": null,
   "metadata": {
    "id": "0XLK5Cop-1HT"
   },
   "outputs": [],
   "source": [
    "# 1) Mean. KLIEP: 20, 0.25, MMD: 20, 0.45\n",
    "# 2) Variance. KLIEP: 20, 0.15, MMD: 20, 0.15     0.33, 0.2\n",
    "# 3) Distribution.\n",
    "\n",
    "# 4) Clean.\n",
    "# 5) SNR 20.\n",
    "# 6) SNR 15.\n",
    "# 7) SNR 10."
   ]
  },
  {
   "cell_type": "code",
   "execution_count": null,
   "metadata": {
    "id": "mj1XoHOZ-1HV",
    "outputId": "d6d8086e-a89b-4f8e-f836-4d7ede8ebb61"
   },
   "outputs": [
    {
     "data": {
      "text/plain": [
       "6.0889"
      ]
     },
     "execution_count": 18,
     "metadata": {},
     "output_type": "execute_result"
    }
   ],
   "source": [
    "S_kliep_np = np.array(S_kliep_list)\n",
    "df_kliep = pd.DataFrame(S_kliep_np.T, columns=range(9))\n",
    "df_kliep.to_csv('thresholds/kliep_ws_20_band_20_sigma_0.1.csv',index=False)\n",
    "threshold_kliep_20 = np.round(np.max(np.max(S_kliep_np, axis=1)), 4)\n",
    "threshold_kliep_20"
   ]
  },
  {
   "cell_type": "code",
   "execution_count": null,
   "metadata": {
    "id": "00_lqlUt-1HW",
    "outputId": "a8c6a4c5-81e4-457c-a47f-d2a7aed04a1a"
   },
   "outputs": [
    {
     "data": {
      "text/plain": [
       "22.713"
      ]
     },
     "execution_count": 19,
     "metadata": {},
     "output_type": "execute_result"
    }
   ],
   "source": [
    "S_mmd_np = np.array(S_mmd_list)\n",
    "df_mmd = pd.DataFrame(S_mmd_np.T, columns=range(9))\n",
    "df_mmd.to_csv('thresholds/mmd_ws_20_band_30_sigma_0.1.csv',index=False)\n",
    "threshold_mmd_30 = np.round(np.max(np.max(S_mmd_np, axis=1)), 4)\n",
    "threshold_mmd_30"
   ]
  },
  {
   "cell_type": "code",
   "execution_count": null,
   "metadata": {
    "id": "h_Kncnp92QWQ",
    "outputId": "71c7bec2-c2a9-408f-b6d5-bb5257e4cb24"
   },
   "outputs": [
    {
     "data": {
      "text/plain": [
       "0.4469"
      ]
     },
     "execution_count": 77,
     "metadata": {},
     "output_type": "execute_result"
    }
   ],
   "source": [
    "S_cusum_np = np.array(S_cusum_list)\n",
    "df_cusum = pd.DataFrame(S_cusum_np.T, columns=range(9))\n",
    "df_cusum.to_csv('thresholds/cusum_sigma_0.1.csv',index=False)\n",
    "threshold_cusum = np.round(np.max(np.max(S_cusum_np, axis=1)), 4)\n",
    "threshold_cusum"
   ]
  },
  {
   "cell_type": "code",
   "execution_count": null,
   "metadata": {
    "id": "p9Sslv1b2QWQ"
   },
   "outputs": [],
   "source": [
    "# Number of observations\n",
    "n = 150\n",
    "\n",
    "# Standard deviation of the observations\n",
    "sigma = 0.1\n",
    "\n",
    "# Generate a Gaussian sequence of observations\n",
    "np.random.seed(1)\n",
    "S_kliep_list = []\n",
    "S_mmd_list = []\n",
    "\n",
    "for item in range(9):\n",
    "    X = sigma * randn(n)\n",
    "\n",
    "    S_kliep = compute_test_stat_kliep(X, window_size=20, sigma=0.25)\n",
    "    S_mmd = compute_test_stat_mmd(X, window_size=20, sigma=0.35)\n",
    "    \n",
    "    S_kliep_list.append(S_kliep)\n",
    "    S_mmd_list.append(S_mmd)"
   ]
  },
  {
   "cell_type": "code",
   "execution_count": null,
   "metadata": {
    "id": "JKX8lAdm2QWQ",
    "outputId": "140192cc-1286-4b4b-dc8d-2c9ddb7b191b"
   },
   "outputs": [
    {
     "data": {
      "text/plain": [
       "5.3147"
      ]
     },
     "execution_count": 21,
     "metadata": {},
     "output_type": "execute_result"
    }
   ],
   "source": [
    "S_kliep_np = np.array(S_kliep_list)\n",
    "df_kliep = pd.DataFrame(S_kliep_np.T, columns=range(9))\n",
    "df_kliep.to_csv('thresholds/kliep_ws_20_band_25_sigma_0.1.csv',index=False)\n",
    "threshold_kliep_25 = np.round(np.max(np.max(S_kliep_np, axis=1)), 4)\n",
    "threshold_kliep_25"
   ]
  },
  {
   "cell_type": "code",
   "execution_count": null,
   "metadata": {
    "id": "GEiCMXms2QWQ",
    "outputId": "47a3d51c-b681-4447-bc34-e2dd2966de11"
   },
   "outputs": [
    {
     "data": {
      "text/plain": [
       "17.9604"
      ]
     },
     "execution_count": 22,
     "metadata": {},
     "output_type": "execute_result"
    }
   ],
   "source": [
    "S_mmd_np = np.array(S_mmd_list)\n",
    "df_mmd = pd.DataFrame(S_mmd_np.T, columns=range(9))\n",
    "df_mmd.to_csv('thresholds/mmd_ws_20_band_35_sigma_0.1.csv',index=False)\n",
    "threshold_mmd_35 = np.round(np.max(np.max(S_mmd_np, axis=1)), 4)\n",
    "threshold_mmd_35"
   ]
  },
  {
   "cell_type": "code",
   "execution_count": null,
   "metadata": {
    "id": "rw-MJGMB2QWQ",
    "outputId": "73d4c2da-2c98-4ced-e8b8-481258b81374"
   },
   "outputs": [
    {
     "name": "stdout",
     "output_type": "stream",
     "text": [
      "3.8868\n",
      "34.0885\n"
     ]
    }
   ],
   "source": [
    "# Number of observations\n",
    "n = 150\n",
    "\n",
    "# Standard deviation of the observations\n",
    "sigma = 0.1\n",
    "\n",
    "# Generate a Gaussian sequence of observations\n",
    "np.random.seed(1)\n",
    "S_kliep_list = []\n",
    "S_mmd_list = []\n",
    "\n",
    "for item in range(9):\n",
    "    X = sigma * randn(n)\n",
    "\n",
    "    S_kliep = compute_test_stat_kliep(X, window_size=20, sigma=0.35)\n",
    "    S_mmd = compute_test_stat_mmd(X, window_size=20, sigma=0.2)\n",
    "    \n",
    "    S_kliep_list.append(S_kliep)\n",
    "    S_mmd_list.append(S_mmd)\n",
    "    \n",
    "S_kliep_np = np.array(S_kliep_list)\n",
    "df_kliep = pd.DataFrame(S_kliep_np.T, columns=range(9))\n",
    "df_kliep.to_csv('thresholds/kliep_ws_20_band_35_sigma_0.1.csv',index=False)\n",
    "threshold_kliep_35 = np.round(np.max(np.max(S_kliep_np, axis=1)), 4)\n",
    "print(threshold_kliep_35)\n",
    "\n",
    "S_mmd_np = np.array(S_mmd_list)\n",
    "df_mmd = pd.DataFrame(S_mmd_np.T, columns=range(9))\n",
    "df_mmd.to_csv('thresholds/mmd_ws_20_band_20_sigma_0.1.csv',index=False)\n",
    "threshold_mmd_20 = np.round(np.max(np.max(S_mmd_np, axis=1)), 4)\n",
    "print(threshold_mmd_20)"
   ]
  },
  {
   "cell_type": "code",
   "execution_count": null,
   "metadata": {
    "id": "g32AvgpE2QWR",
    "outputId": "6f8ff7be-ed3b-44fe-c9a9-bf72a3d8eb06"
   },
   "outputs": [
    {
     "name": "stdout",
     "output_type": "stream",
     "text": [
      "4.1893\n",
      "42.9836\n"
     ]
    }
   ],
   "source": [
    "# Number of observations\n",
    "n = 150\n",
    "\n",
    "# Standard deviation of the observations\n",
    "sigma = 0.1\n",
    "\n",
    "# Generate a Gaussian sequence of observations\n",
    "np.random.seed(1)\n",
    "S_kliep_list = []\n",
    "S_mmd_list = []\n",
    "\n",
    "for item in range(9):\n",
    "    X = sigma * randn(n)\n",
    "\n",
    "    S_kliep = compute_test_stat_kliep(X, window_size=20, sigma=0.33)\n",
    "    S_mmd = compute_test_stat_mmd(X, window_size=20, sigma=0.15)\n",
    "    \n",
    "    S_kliep_list.append(S_kliep)\n",
    "    S_mmd_list.append(S_mmd)\n",
    "    \n",
    "S_kliep_np = np.array(S_kliep_list)\n",
    "df_kliep = pd.DataFrame(S_kliep_np.T, columns=range(9))\n",
    "df_kliep.to_csv('thresholds/kliep_ws_20_band_33_sigma_0.1.csv',index=False)\n",
    "threshold_kliep_33 = np.round(np.max(np.max(S_kliep_np, axis=1)), 4)\n",
    "print(threshold_kliep_33)\n",
    "\n",
    "S_mmd_np = np.array(S_mmd_list)\n",
    "df_mmd = pd.DataFrame(S_mmd_np.T, columns=range(9))\n",
    "df_mmd.to_csv('thresholds/mmd_ws_20_band_15_sigma_0.1.csv',index=False)\n",
    "threshold_mmd_15 = np.round(np.max(np.max(S_mmd_np, axis=1)), 4)\n",
    "print(threshold_mmd_15)"
   ]
  },
  {
   "cell_type": "code",
   "execution_count": null,
   "metadata": {
    "id": "s7Q86MCR2QWR",
    "outputId": "57aa3d6f-f28c-44f7-a20e-2f093fdafa9f"
   },
   "outputs": [
    {
     "name": "stdout",
     "output_type": "stream",
     "text": [
      "2.2427\n",
      "9.5924\n"
     ]
    }
   ],
   "source": [
    "# Number of observations\n",
    "n = 150\n",
    "\n",
    "# Standard deviation of the observations\n",
    "sigma = 0.1\n",
    "\n",
    "# Generate a Gaussian sequence of observations\n",
    "np.random.seed(1)\n",
    "S_kliep_list = []\n",
    "S_mmd_list = []\n",
    "\n",
    "for item in range(9):\n",
    "    X = sigma * randn(n)\n",
    "\n",
    "    S_kliep = compute_test_stat_kliep(X, window_size=20, sigma=0.5)\n",
    "    S_mmd = compute_test_stat_mmd(X, window_size=20, sigma=0.5)\n",
    "    \n",
    "    S_kliep_list.append(S_kliep)\n",
    "    S_mmd_list.append(S_mmd)\n",
    "    \n",
    "S_kliep_np = np.array(S_kliep_list)\n",
    "df_kliep = pd.DataFrame(S_kliep_np.T, columns=range(9))\n",
    "df_kliep.to_csv('thresholds/kliep_ws_20_band_50_sigma_0.1.csv',index=False)\n",
    "threshold_kliep_50 = np.round(np.max(np.max(S_kliep_np, axis=1)), 4)\n",
    "print(threshold_kliep_50)\n",
    "\n",
    "S_mmd_np = np.array(S_mmd_list)\n",
    "df_mmd = pd.DataFrame(S_mmd_np.T, columns=range(9))\n",
    "df_mmd.to_csv('thresholds/mmd_ws_20_band_50_sigma_0.1.csv',index=False)\n",
    "threshold_mmd_50 = np.round(np.max(np.max(S_mmd_np, axis=1)), 4)\n",
    "print(threshold_mmd_50)"
   ]
  },
  {
   "cell_type": "code",
   "execution_count": null,
   "metadata": {
    "id": "ZzVpL11-2QWS",
    "outputId": "2d79227c-568e-4d59-ef19-fca904aa3885"
   },
   "outputs": [
    {
     "name": "stdout",
     "output_type": "stream",
     "text": [
      "3.2149\n",
      "11.6102\n"
     ]
    }
   ],
   "source": [
    "# Number of observations\n",
    "n = 150\n",
    "\n",
    "# Standard deviation of the observations\n",
    "sigma = 0.1\n",
    "\n",
    "# Generate a Gaussian sequence of observations\n",
    "np.random.seed(1)\n",
    "S_kliep_list = []\n",
    "S_mmd_list = []\n",
    "\n",
    "for item in range(9):\n",
    "    X = sigma * randn(n)\n",
    "\n",
    "    S_kliep = compute_test_stat_kliep(X, window_size=20, sigma=0.4)\n",
    "    S_mmd = compute_test_stat_mmd(X, window_size=20, sigma=0.45)\n",
    "    \n",
    "    S_kliep_list.append(S_kliep)\n",
    "    S_mmd_list.append(S_mmd)\n",
    "    \n",
    "S_kliep_np = np.array(S_kliep_list)\n",
    "df_kliep = pd.DataFrame(S_kliep_np.T, columns=range(9))\n",
    "df_kliep.to_csv('thresholds/kliep_ws_20_band_40_sigma_0.1.csv',index=False)\n",
    "threshold_kliep_40 = np.round(np.max(np.max(S_kliep_np, axis=1)), 4)\n",
    "print(threshold_kliep_40)\n",
    "\n",
    "S_mmd_np = np.array(S_mmd_list)\n",
    "df_mmd = pd.DataFrame(S_mmd_np.T, columns=range(9))\n",
    "df_mmd.to_csv('thresholds/mmd_ws_20_band_45_sigma_0.1.csv',index=False)\n",
    "threshold_mmd_45 = np.round(np.max(np.max(S_mmd_np, axis=1)), 4)\n",
    "print(threshold_mmd_45)"
   ]
  },
  {
   "cell_type": "code",
   "execution_count": null,
   "metadata": {
    "id": "khSZHSjW2QWS",
    "outputId": "6a2d6ff3-6b6e-4432-d7d2-29ae0391bd36"
   },
   "outputs": [
    {
     "name": "stdout",
     "output_type": "stream",
     "text": [
      "4.1893\n",
      "36.745\n"
     ]
    }
   ],
   "source": [
    "# Number of observations\n",
    "n = 150\n",
    "\n",
    "# Standard deviation of the observations\n",
    "sigma = 0.1\n",
    "\n",
    "# Generate a Gaussian sequence of observations\n",
    "np.random.seed(1)\n",
    "S_kliep_list = []\n",
    "S_mmd_list = []\n",
    "\n",
    "for item in range(9):\n",
    "    X = sigma * randn(n)\n",
    "\n",
    "    S_kliep = compute_test_stat_kliep(X, window_size=20, sigma=0.33)\n",
    "    S_mmd = compute_test_stat_mmd(X, window_size=20, sigma=0.10)\n",
    "    \n",
    "    S_kliep_list.append(S_kliep)\n",
    "    S_mmd_list.append(S_mmd)\n",
    "    \n",
    "S_kliep_np = np.array(S_kliep_list)\n",
    "df_kliep = pd.DataFrame(S_kliep_np.T, columns=range(9))\n",
    "df_kliep.to_csv('thresholds/kliep_ws_20_band_33_sigma_0.1.csv',index=False)\n",
    "threshold_kliep_33 = np.round(np.max(np.max(S_kliep_np, axis=1)), 4)\n",
    "print(threshold_kliep_33)\n",
    "\n",
    "S_mmd_np = np.array(S_mmd_list)\n",
    "df_mmd = pd.DataFrame(S_mmd_np.T, columns=range(9))\n",
    "df_mmd.to_csv('thresholds/mmd_ws_20_band_10_sigma_0.1.csv',index=False)\n",
    "threshold_mmd_10 = np.round(np.max(np.max(S_mmd_np, axis=1)), 4)\n",
    "print(threshold_mmd_10)"
   ]
  },
  {
   "cell_type": "code",
   "execution_count": null,
   "metadata": {
    "id": "B0xWqcNa2QWS",
    "outputId": "e31371e0-7387-4bd7-aec0-c7dca811f66c"
   },
   "outputs": [
    {
     "name": "stdout",
     "output_type": "stream",
     "text": [
      "6.8485\n",
      "28.4776\n"
     ]
    }
   ],
   "source": [
    "# Number of observations\n",
    "n = 150\n",
    "\n",
    "# Standard deviation of the observations\n",
    "sigma = 0.1\n",
    "\n",
    "# Generate a Gaussian sequence of observations\n",
    "np.random.seed(1)\n",
    "S_kliep_list = []\n",
    "S_mmd_list = []\n",
    "\n",
    "for item in range(9):\n",
    "    X = sigma * randn(n)\n",
    "\n",
    "    S_kliep = compute_test_stat_kliep(X, window_size=20, sigma=0.18)\n",
    "    S_mmd = compute_test_stat_mmd(X, window_size=20, sigma=0.25)\n",
    "    \n",
    "    S_kliep_list.append(S_kliep)\n",
    "    S_mmd_list.append(S_mmd)\n",
    "    \n",
    "S_kliep_np = np.array(S_kliep_list)\n",
    "df_kliep = pd.DataFrame(S_kliep_np.T, columns=range(9))\n",
    "df_kliep.to_csv('thresholds/kliep_ws_20_band_18_sigma_0.1.csv',index=False)\n",
    "threshold_kliep_18 = np.round(np.max(np.max(S_kliep_np, axis=1)), 4)\n",
    "print(threshold_kliep_18)\n",
    "\n",
    "S_mmd_np = np.array(S_mmd_list)\n",
    "df_mmd = pd.DataFrame(S_mmd_np.T, columns=range(9))\n",
    "df_mmd.to_csv('thresholds/mmd_ws_20_band_25_sigma_0.1.csv',index=False)\n",
    "threshold_mmd_25 = np.round(np.max(np.max(S_mmd_np, axis=1)), 4)\n",
    "print(threshold_mmd_25)"
   ]
  },
  {
   "cell_type": "code",
   "execution_count": null,
   "metadata": {
    "id": "BBUO9t-e2QWS"
   },
   "outputs": [],
   "source": [
    "# Number of observations\n",
    "n = 150\n",
    "\n",
    "# Standard deviation of the observations\n",
    "sigma = 0.1\n",
    "\n",
    "# Generate a Gaussian sequence of observations\n",
    "np.random.seed(1)\n",
    "\n",
    "S_cusum_list = []\n",
    "\n",
    "for item in range(9):\n",
    "    X = sigma * randn(n)\n",
    "\n",
    " \n",
    "    S_cusum = compute_cusum_squared(X)\n",
    " \n",
    "    S_cusum_list.append(S_cusum)"
   ]
  },
  {
   "cell_type": "code",
   "execution_count": null,
   "metadata": {
    "id": "_vkoHddS2QWS",
    "outputId": "8e614ba8-c3e6-4fb8-bd9a-dd479574576a"
   },
   "outputs": [
    {
     "data": {
      "text/plain": [
       "0.1465"
      ]
     },
     "execution_count": 20,
     "metadata": {},
     "output_type": "execute_result"
    }
   ],
   "source": [
    "S_cusum_np = np.array(S_cusum_list)\n",
    "df_cusum = pd.DataFrame(S_cusum_np.T, columns=range(9))\n",
    "df_cusum.to_csv('thresholds/cusum_squared_sigma_0.1.csv',index=False)\n",
    "threshold_cusum_squared = np.round(np.max(np.max(S_cusum_np, axis=1)), 4)\n",
    "threshold_cusum_squared"
   ]
  },
  {
   "cell_type": "code",
   "execution_count": null,
   "metadata": {
    "id": "NysGIndJ0u_M"
   },
   "outputs": [],
   "source": [
    "# Number of observations\n",
    "n = 150\n",
    "\n",
    "# Standard deviation of the observations\n",
    "sigma = 0.1\n",
    "\n",
    "# Generate a Gaussian sequence of observations\n",
    "np.random.seed(1)\n",
    "S_kliep_list = []\n",
    "S_mmd_list = []\n",
    "\n",
    "for item in range(4):\n",
    "    X = 2 * np.sqrt(3) * sigma * (np.random.rand(n) - 0.5)\n",
    "\n",
    "    S_kliep = compute_test_stat_kliep(X, window_size=20, sigma=0.2)\n",
    "    S_mmd = compute_test_stat_mmd(X, window_size=20, sigma=0.3)\n",
    "    \n",
    "    S_kliep_list.append(S_kliep)\n",
    "    S_mmd_list.append(S_mmd)"
   ]
  },
  {
   "cell_type": "code",
   "execution_count": null,
   "metadata": {
    "colab": {
     "base_uri": "https://localhost:8080/"
    },
    "executionInfo": {
     "elapsed": 311,
     "status": "ok",
     "timestamp": 1659448368496,
     "user": {
      "displayName": "Валерия Щербакова",
      "userId": "16261370459466109945"
     },
     "user_tz": -180
    },
    "id": "xYa69aRJ06zU",
    "outputId": "658b970f-975d-41ff-a038-5f897579e9db"
   },
   "outputs": [
    {
     "name": "stdout",
     "output_type": "stream",
     "text": [
      "4.6019\n",
      "15.8071\n"
     ]
    }
   ],
   "source": [
    "S_kliep_np = np.array(S_kliep_list)\n",
    "df_kliep = pd.DataFrame(S_kliep_np.T, columns=range(4))\n",
    "df_kliep.to_csv('thresholds/kliep_ws_20_band_20_sigma_0.1_uniform.csv',index=False)\n",
    "threshold_kliep_20_uniform = np.round(np.max(np.max(S_kliep_np, axis=1)), 4)\n",
    "print(threshold_kliep_20_uniform)\n",
    "\n",
    "S_mmd_np = np.array(S_mmd_list)\n",
    "df_mmd = pd.DataFrame(S_mmd_np.T, columns=range(4))\n",
    "df_mmd.to_csv('thresholds/mmd_ws_20_band_30_sigma_0.1_uniform.csv',index=False)\n",
    "threshold_mmd_30_uniform = np.round(np.max(np.max(S_mmd_np, axis=1)), 4)\n",
    "print(threshold_mmd_30_uniform)"
   ]
  },
  {
   "cell_type": "code",
   "execution_count": null,
   "metadata": {
    "id": "LHq3nLyO1uu_"
   },
   "outputs": [],
   "source": [
    "# Number of observations\n",
    "n = 150\n",
    "\n",
    "# Standard deviation of the observations\n",
    "sigma = 0.1\n",
    "\n",
    "# Generate a Gaussian sequence of observations\n",
    "np.random.seed(1)\n",
    "S_kliep_list = []\n",
    "S_mmd_list = []\n",
    "\n",
    "for item in range(4):\n",
    "    X = 2 * np.sqrt(3) * sigma * (np.random.rand(n) - 0.5)\n",
    "\n",
    "    S_kliep = compute_test_stat_kliep(X, window_size=20, sigma=0.45)\n",
    "    S_mmd = compute_test_stat_mmd(X, window_size=20, sigma=0.6)\n",
    "    \n",
    "    S_kliep_list.append(S_kliep)\n",
    "    S_mmd_list.append(S_mmd)"
   ]
  },
  {
   "cell_type": "code",
   "execution_count": null,
   "metadata": {
    "colab": {
     "base_uri": "https://localhost:8080/"
    },
    "executionInfo": {
     "elapsed": 274,
     "status": "ok",
     "timestamp": 1659449446988,
     "user": {
      "displayName": "Валерия Щербакова",
      "userId": "16261370459466109945"
     },
     "user_tz": -180
    },
    "id": "cL-IkotG2WBl",
    "outputId": "179888b8-fd51-4060-877a-b0348ba4c833"
   },
   "outputs": [
    {
     "name": "stdout",
     "output_type": "stream",
     "text": [
      "1.1267\n",
      "5.202\n"
     ]
    }
   ],
   "source": [
    "S_kliep_np = np.array(S_kliep_list)\n",
    "df_kliep = pd.DataFrame(S_kliep_np.T, columns=range(4))\n",
    "df_kliep.to_csv('thresholds/kliep_ws_20_band_45_sigma_0.1_uniform.csv',index=False)\n",
    "threshold_kliep_45_uniform = np.round(np.max(np.max(S_kliep_np, axis=1)), 4)\n",
    "print(threshold_kliep_45_uniform)\n",
    "\n",
    "S_mmd_np = np.array(S_mmd_list)\n",
    "df_mmd = pd.DataFrame(S_mmd_np.T, columns=range(4))\n",
    "df_mmd.to_csv('thresholds/mmd_ws_20_band_60_sigma_0.1_uniform.csv',index=False)\n",
    "threshold_mmd_60_uniform = np.round(np.max(np.max(S_mmd_np, axis=1)), 4)\n",
    "print(threshold_mmd_60_uniform)"
   ]
  },
  {
   "cell_type": "markdown",
   "metadata": {
    "id": "-dgxNJlWR8eP"
   },
   "source": [
    "### Threshold for p = 10, n_epochs=200, sigma = sigma_1\n"
   ]
  },
  {
   "cell_type": "code",
   "execution_count": null,
   "metadata": {
    "id": "-bGP4X9K2QWT"
   },
   "outputs": [],
   "source": [
    "# Number of observations\n",
    "n = 100\n",
    "\n",
    "# Standard deviation of the observations\n",
    "sigma = sigma_1\n",
    "\n",
    "# Generate a Gaussian sequence of observations\n",
    "np.random.seed(1)\n",
    "p = 10\n",
    "S_poly_list = []\n",
    "S_nn_list = []\n",
    "S_f_list = []\n",
    "\n",
    "for item in range(9):\n",
    "    X = sigma * randn(n)\n",
    "\n",
    "    S_poly = compute_test_stat_linear(X, p)\n",
    "    S_nn = compute_test_stat_nn(X, n_epochs=200)\n",
    "    S_f = compute_test_stat_fourier(X, p)\n",
    "\n",
    "    S_poly_list.append(S_poly)\n",
    "    S_nn_list.append(S_nn)\n",
    "    S_f_list.append(S_f)"
   ]
  },
  {
   "cell_type": "code",
   "execution_count": null,
   "metadata": {
    "id": "f11eae4S2QWT"
   },
   "outputs": [],
   "source": [
    "S_nn_np = pd.read_csv('thresholds/nn_n_epochs_200_sigma_1.csv').to_numpy()\n",
    "threshold_nn_1 = np.round(np.max(np.max(S_nn_np[:,:9], axis = 0)), 4)\n",
    "threshold_nn_1"
   ]
  },
  {
   "cell_type": "code",
   "execution_count": null,
   "metadata": {
    "id": "whvqOs_i_xex"
   },
   "outputs": [],
   "source": [
    "S_f_np = np.array(S_f_list)\n",
    "df_f = pd.DataFrame(S_f_np.T, columns=range(10))\n",
    "df_f.to_csv('thresholds/Fourier_p_10_sigma_1.csv',index=False)"
   ]
  },
  {
   "cell_type": "code",
   "execution_count": null,
   "metadata": {
    "id": "tUJOa6BhKknD"
   },
   "outputs": [],
   "source": [
    "S_nn_np = np.array(S_nn_list)\n",
    "df_nn = pd.DataFrame(S_nn_np.T, columns=range(10))\n",
    "df_nn.to_csv('thresholds/nn_n_epochs_200_sigma_1.csv',index=False)"
   ]
  },
  {
   "cell_type": "code",
   "execution_count": null,
   "metadata": {
    "id": "cCxTGdIJKkpq"
   },
   "outputs": [],
   "source": [
    "S_poly_np = np.array(S_poly_list)\n",
    "df_poly = pd.DataFrame(S_poly_np.T, columns=range(10))\n",
    "df_poly.to_csv('thresholds/polynomial_p_10_sigma_1.csv',index=False)"
   ]
  },
  {
   "cell_type": "code",
   "execution_count": null,
   "metadata": {
    "id": "sN8Milmy2QWT",
    "outputId": "8155629f-0017-4c58-9b2a-a1938206c011"
   },
   "outputs": [
    {
     "data": {
      "text/plain": [
       "0.0"
      ]
     },
     "execution_count": 38,
     "metadata": {},
     "output_type": "execute_result"
    }
   ],
   "source": [
    "S_poly_np = pd.read_csv('thresholds/polynomial_p_10_sigma_1.csv').to_numpy()\n",
    "threshold_p_10_poly_1 = np.round(np.max(np.max(S_poly_np[:,:9], axis = 0)), 4)\n",
    "threshold_p_10_poly_1"
   ]
  },
  {
   "cell_type": "code",
   "execution_count": null,
   "metadata": {
    "id": "fzjbyCtU2QWT",
    "outputId": "dd915095-f889-45a2-9fd4-3ceaa247473d"
   },
   "outputs": [
    {
     "data": {
      "text/plain": [
       "0.103"
      ]
     },
     "execution_count": 39,
     "metadata": {},
     "output_type": "execute_result"
    }
   ],
   "source": [
    "S_nn_np = pd.read_csv('thresholds/nn_n_epochs_200_sigma_1.csv').to_numpy()\n",
    "threshold_nn_1 = np.round(np.max(np.max(S_nn_np[:,:9], axis = 0)), 4)\n",
    "threshold_nn_1"
   ]
  },
  {
   "cell_type": "code",
   "execution_count": null,
   "metadata": {
    "id": "vJJnk5MS2QWT",
    "outputId": "21840815-f998-4f95-e973-14645175bedd"
   },
   "outputs": [
    {
     "data": {
      "text/plain": [
       "2.4887"
      ]
     },
     "execution_count": 40,
     "metadata": {},
     "output_type": "execute_result"
    }
   ],
   "source": [
    "S_f_np = pd.read_csv('thresholds/Fourier_p_10_sigma_1.csv').to_numpy()\n",
    "threshold_p_10_f_1 = np.round(np.max(np.max(S_f_np[:,:9], axis = 0)), 4)\n",
    "threshold_p_10_f_1"
   ]
  }
 ],
 "metadata": {
  "colab": {
   "name": "thresholds.ipynb",
   "provenance": []
  },
  "kernelspec": {
   "display_name": "Python 3 (ipykernel)",
   "language": "python",
   "name": "python3"
  },
  "language_info": {
   "codemirror_mode": {
    "name": "ipython",
    "version": 3
   },
   "file_extension": ".py",
   "mimetype": "text/x-python",
   "name": "python",
   "nbconvert_exporter": "python",
   "pygments_lexer": "ipython3",
   "version": "3.9.6"
  }
 },
 "nbformat": 4,
 "nbformat_minor": 1
}
